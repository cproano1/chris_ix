{
 "cells": [
  {
   "cell_type": "markdown",
   "metadata": {},
   "source": [
    "4. Variable Distribution"
   ]
  },
  {
   "cell_type": "code",
   "execution_count": 4,
   "metadata": {},
   "outputs": [],
   "source": [
    "import pandas as pd\n",
    "import numpy as np\n",
    "import matplotlib.pyplot as plt\n",
    "import seaborn as sns\n",
    "from IPython.display import Image"
   ]
  },
  {
   "cell_type": "code",
   "execution_count": 5,
   "metadata": {},
   "outputs": [],
   "source": [
    "%matplotlib inline\n",
    "\n",
    "plt.rcParams['figure.figsize'] = (12,12)"
   ]
  },
  {
   "cell_type": "code",
   "execution_count": 6,
   "metadata": {},
   "outputs": [],
   "source": [
    "world = pd.read_pickle(\"data/world.3.grouped.pkl\")"
   ]
  },
  {
   "cell_type": "code",
   "execution_count": 7,
   "metadata": {},
   "outputs": [
    {
     "data": {
      "text/plain": [
       "country                object\n",
       "region                 object\n",
       "happiness_rank          int64\n",
       "happiness_score       float64\n",
       "standard_error        float64\n",
       "economy               float64\n",
       "family                float64\n",
       "health                float64\n",
       "freedom               float64\n",
       "gov_trust             float64\n",
       "generosity            float64\n",
       "development_level      object\n",
       "happ_score_types     category\n",
       "rank_types           category\n",
       "health_types         category\n",
       "dtype: object"
      ]
     },
     "execution_count": 7,
     "metadata": {},
     "output_type": "execute_result"
    }
   ],
   "source": [
    "world.dtypes"
   ]
  },
  {
   "cell_type": "markdown",
   "metadata": {},
   "source": [
    "Numerical Variable Distribution"
   ]
  },
  {
   "cell_type": "code",
   "execution_count": 8,
   "metadata": {},
   "outputs": [],
   "source": [
    "def numerical_variable_distribution(df, col):\n",
    "    df[col].plot.kde()\n",
    "    plt.xlabel('Variable \"{}\" Distribution'.format(col))\n",
    "    plt.show()"
   ]
  },
  {
   "cell_type": "code",
   "execution_count": 9,
   "metadata": {},
   "outputs": [],
   "source": [
    "numerical_columns = world.select_dtypes(np.number).columns.tolist()"
   ]
  },
  {
   "cell_type": "code",
   "execution_count": 10,
   "metadata": {},
   "outputs": [],
   "source": [
    "from ipywidgets import interact, fixed"
   ]
  },
  {
   "cell_type": "code",
   "execution_count": 11,
   "metadata": {},
   "outputs": [
    {
     "data": {
      "application/vnd.jupyter.widget-view+json": {
       "model_id": "56446891285d4c3b975d1a63ae8442b6",
       "version_major": 2,
       "version_minor": 0
      },
      "text/plain": [
       "interactive(children=(Dropdown(description='col', options=('happiness_rank', 'happiness_score', 'standard_erro…"
      ]
     },
     "metadata": {},
     "output_type": "display_data"
    }
   ],
   "source": [
    "interact(numerical_variable_distribution, \n",
    "         col=numerical_columns, df=fixed(world));"
   ]
  },
  {
   "cell_type": "markdown",
   "metadata": {},
   "source": [
    "Based on the KDE of each numerical variable, all of them seem to follow a normal distribution."
   ]
  },
  {
   "cell_type": "code",
   "execution_count": 12,
   "metadata": {},
   "outputs": [
    {
     "name": "stdout",
     "output_type": "stream",
     "text": [
      "Column happiness_rank doesn't follow a normal distribution\n",
      "Column happiness_score doesn't follow a normal distribution\n",
      "Column standard_error doesn't follow a normal distribution\n",
      "Column economy doesn't follow a normal distribution\n",
      "Column family doesn't follow a normal distribution\n",
      "Column health doesn't follow a normal distribution\n",
      "Column freedom doesn't follow a normal distribution\n",
      "Column gov_trust doesn't follow a normal distribution\n",
      "Column generosity doesn't follow a normal distribution\n"
     ]
    }
   ],
   "source": [
    "from scipy import stats\n",
    "for num_col in numerical_columns:\n",
    "    _, pval = stats.normaltest(world[num_col][world[num_col].notnull()])\n",
    "    if(pval < 0.05):\n",
    "        print(\"Column {} doesn't follow a normal distribution\".format(num_col))"
   ]
  },
  {
   "cell_type": "markdown",
   "metadata": {},
   "source": [
    "However, this function shows that none of the variables actually follow a normal distribution."
   ]
  },
  {
   "cell_type": "markdown",
   "metadata": {},
   "source": [
    "Categorical Variable Distribution"
   ]
  },
  {
   "cell_type": "code",
   "execution_count": 13,
   "metadata": {},
   "outputs": [],
   "source": [
    "def categorical_variable_distribution(col):\n",
    "    world[col].value_counts(ascending=True,normalize=True).tail(20).plot.barh()\n",
    "    plt.show()"
   ]
  },
  {
   "cell_type": "code",
   "execution_count": 14,
   "metadata": {},
   "outputs": [],
   "source": [
    "categorical_columns = world.select_dtypes(\n",
    "    ['object', 'category']).columns.tolist()"
   ]
  },
  {
   "cell_type": "code",
   "execution_count": 15,
   "metadata": {},
   "outputs": [
    {
     "data": {
      "application/vnd.jupyter.widget-view+json": {
       "model_id": "80ef4e1271ff4411ae39a17191e46136",
       "version_major": 2,
       "version_minor": 0
      },
      "text/plain": [
       "interactive(children=(Dropdown(description='col', options=('country', 'region', 'development_level', 'happ_sco…"
      ]
     },
     "metadata": {},
     "output_type": "display_data"
    }
   ],
   "source": [
    "interact(categorical_variable_distribution, col=categorical_columns);"
   ]
  }
 ],
 "metadata": {
  "kernelspec": {
   "display_name": "Python 3",
   "language": "python",
   "name": "python3"
  },
  "language_info": {
   "codemirror_mode": {
    "name": "ipython",
    "version": 3
   },
   "file_extension": ".py",
   "mimetype": "text/x-python",
   "name": "python",
   "nbconvert_exporter": "python",
   "pygments_lexer": "ipython3",
   "version": "3.6.5"
  }
 },
 "nbformat": 4,
 "nbformat_minor": 2
}
