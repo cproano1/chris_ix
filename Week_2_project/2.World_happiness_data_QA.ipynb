{
 "cells": [
  {
   "cell_type": "markdown",
   "metadata": {},
   "source": [
    "2. Quality Assurance (QA)"
   ]
  },
  {
   "cell_type": "code",
   "execution_count": 15,
   "metadata": {},
   "outputs": [],
   "source": [
    "import pandas as pd"
   ]
  },
  {
   "cell_type": "code",
   "execution_count": 16,
   "metadata": {},
   "outputs": [],
   "source": [
    "%matplotlib inline\n",
    "import matplotlib.pyplot as plt\n",
    "\n",
    "plt.rcParams['figure.figsize'] = (12,12)"
   ]
  },
  {
   "cell_type": "code",
   "execution_count": 17,
   "metadata": {},
   "outputs": [],
   "source": [
    "world = pd.read_csv(\"data/world_happiness.1.initial_process.csv\")"
   ]
  },
  {
   "cell_type": "code",
   "execution_count": 18,
   "metadata": {},
   "outputs": [
    {
     "data": {
      "text/plain": [
       "(158, 11)"
      ]
     },
     "execution_count": 18,
     "metadata": {},
     "output_type": "execute_result"
    }
   ],
   "source": [
    "world.shape"
   ]
  },
  {
   "cell_type": "markdown",
   "metadata": {},
   "source": [
    "Searching for Duplicates"
   ]
  },
  {
   "cell_type": "code",
   "execution_count": 20,
   "metadata": {},
   "outputs": [
    {
     "data": {
      "text/plain": [
       "Kosovo                    0.006329\n",
       "Lithuania                 0.006329\n",
       "Austria                   0.006329\n",
       "Bolivia                   0.006329\n",
       "Ecuador                   0.006329\n",
       "United Arab Emirates      0.006329\n",
       "Sri Lanka                 0.006329\n",
       "Chad                      0.006329\n",
       "Russia                    0.006329\n",
       "New Zealand               0.006329\n",
       "France                    0.006329\n",
       "Cyprus                    0.006329\n",
       "Mali                      0.006329\n",
       "Tunisia                   0.006329\n",
       "Morocco                   0.006329\n",
       "Australia                 0.006329\n",
       "Luxembourg                0.006329\n",
       "Philippines               0.006329\n",
       "Congo (Brazzaville)       0.006329\n",
       "Mozambique                0.006329\n",
       "Italy                     0.006329\n",
       "Libya                     0.006329\n",
       "Estonia                   0.006329\n",
       "Qatar                     0.006329\n",
       "Netherlands               0.006329\n",
       "Saudi Arabia              0.006329\n",
       "Niger                     0.006329\n",
       "Hungary                   0.006329\n",
       "Mauritania                0.006329\n",
       "Iran                      0.006329\n",
       "                            ...   \n",
       "Ukraine                   0.006329\n",
       "Somaliland region         0.006329\n",
       "Argentina                 0.006329\n",
       "Rwanda                    0.006329\n",
       "Portugal                  0.006329\n",
       "Greece                    0.006329\n",
       "Canada                    0.006329\n",
       "Bahrain                   0.006329\n",
       "South Africa              0.006329\n",
       "Kazakhstan                0.006329\n",
       "Ivory Coast               0.006329\n",
       "Jamaica                   0.006329\n",
       "Indonesia                 0.006329\n",
       "Togo                      0.006329\n",
       "Burundi                   0.006329\n",
       "Uzbekistan                0.006329\n",
       "Bhutan                    0.006329\n",
       "Moldova                   0.006329\n",
       "India                     0.006329\n",
       "Guinea                    0.006329\n",
       "Ghana                     0.006329\n",
       "Ireland                   0.006329\n",
       "Finland                   0.006329\n",
       "Denmark                   0.006329\n",
       "Albania                   0.006329\n",
       "Bosnia and Herzegovina    0.006329\n",
       "Peru                      0.006329\n",
       "Uruguay                   0.006329\n",
       "Vietnam                   0.006329\n",
       "Iraq                      0.006329\n",
       "Name: country, Length: 158, dtype: float64"
      ]
     },
     "execution_count": 20,
     "metadata": {},
     "output_type": "execute_result"
    }
   ],
   "source": [
    "world.country.value_counts(normalize=True)"
   ]
  },
  {
   "cell_type": "markdown",
   "metadata": {},
   "source": [
    "No duplicates"
   ]
  },
  {
   "cell_type": "code",
   "execution_count": 21,
   "metadata": {},
   "outputs": [
    {
     "name": "stdout",
     "output_type": "stream",
     "text": [
      "country | 0.006-0.006 | object\n",
      "region | 0.253-0.013 | object\n",
      "happiness_rank | 0.013-0.006 | int64\n",
      "happiness_score | 0.013-0.006 | float64\n",
      "standard_error | 0.013-0.006 | float64\n",
      "economy | 0.006-0.006 | float64\n",
      "family | 0.006-0.006 | float64\n",
      "health | 0.013-0.006 | float64\n",
      "freedom | 0.006-0.006 | float64\n",
      "gov_trust | 0.013-0.006 | float64\n",
      "generosity | 0.006-0.006 | float64\n"
     ]
    }
   ],
   "source": [
    "n_records = len(world)\n",
    "def duplicate_values_col(df):\n",
    "    for column in df:\n",
    "        column_counts = df[column].value_counts()\n",
    "        most_common = column_counts.iloc[0]\n",
    "        least_common = column_counts.iloc[-1]\n",
    "        print(\"{} | {}-{} | {}\".format(\n",
    "            df[column].name,\n",
    "            round(most_common / (1.0 * n_records),3),\n",
    "            round(least_common / (1.0 * n_records),3),\n",
    "            df[column].dtype\n",
    "        ))\n",
    "\n",
    "duplicate_values_col(world)"
   ]
  },
  {
   "cell_type": "code",
   "execution_count": 22,
   "metadata": {},
   "outputs": [
    {
     "data": {
      "text/plain": [
       "<matplotlib.axes._subplots.AxesSubplot at 0x10bd404e0>"
      ]
     },
     "execution_count": 22,
     "metadata": {},
     "output_type": "execute_result"
    },
    {
     "data": {
      "image/png": "[encoded data removed]",
      "text/plain": [
       "<Figure size 864x864 with 1 Axes>"
      ]
     },
     "metadata": {},
     "output_type": "display_data"
    }
   ],
   "source": [
    "world.happiness_score.hist()"
   ]
  },
  {
   "cell_type": "markdown",
   "metadata": {},
   "source": [
    "Based on the histogram, the majority of countries have a happiness score between 4 and 6. The countries with the highest scores are slightly above 7, while the lowest are almost 3."
   ]
  },
  {
   "cell_type": "markdown",
   "metadata": {},
   "source": [
    "Searching for Missing Values"
   ]
  },
  {
   "cell_type": "code",
   "execution_count": 23,
   "metadata": {},
   "outputs": [
    {
     "name": "stdout",
     "output_type": "stream",
     "text": [
      "country | 0.0 | object\n",
      "region | 0.0 | object\n",
      "happiness_rank | 0.0 | int64\n",
      "happiness_score | 0.0 | float64\n",
      "standard_error | 0.0 | float64\n",
      "economy | 0.0 | float64\n",
      "family | 0.0 | float64\n",
      "health | 0.0 | float64\n",
      "freedom | 0.0 | float64\n",
      "gov_trust | 0.0 | float64\n",
      "generosity | 0.0 | float64\n"
     ]
    }
   ],
   "source": [
    "n_records = len(world)\n",
    "def missing_values_df(df):\n",
    "    for column in df:\n",
    "        print(\"{} | {} | {}\".format(\n",
    "            column, len(df[df[column].isnull()]) / (1.0*n_records), df[column].dtype\n",
    "        ))\n",
    "\n",
    "missing_values_df(world)"
   ]
  },
  {
   "cell_type": "markdown",
   "metadata": {},
   "source": [
    "No values are missing from the data."
   ]
  },
  {
   "cell_type": "raw",
   "metadata": {},
   "source": [
    "Searching for Outliers"
   ]
  },
  {
   "cell_type": "code",
   "execution_count": 25,
   "metadata": {},
   "outputs": [
    {
     "name": "stdout",
     "output_type": "stream",
     "text": [
      "happiness_rank | 0 | int64\n",
      "happiness_score | 0 | float64\n",
      "standard_error | 3 | float64\n",
      "economy | 0 | float64\n",
      "family | 2 | float64\n",
      "health | 0 | float64\n",
      "freedom | 0 | float64\n",
      "gov_trust | 2 | float64\n",
      "generosity | 1 | float64\n"
     ]
    }
   ],
   "source": [
    "from scipy import stats\n",
    "import numpy as np\n",
    "\n",
    "def outliers_col(df):\n",
    "    for column in df:\n",
    "        if df[column].dtype != np.object:\n",
    "            n_outliers = len(df[(np.abs(stats.zscore(df[column])) > 3)& \\\n",
    "                  (df[column].notnull())\n",
    "                 ])\n",
    "            print(\"{} | {} | {}\".format(\n",
    "                df[column].name,\n",
    "                n_outliers,\n",
    "                df[column].dtype\n",
    "        ))\n",
    "\n",
    "outliers_col(world)"
   ]
  },
  {
   "cell_type": "code",
   "execution_count": 26,
   "metadata": {},
   "outputs": [
    {
     "data": {
      "text/plain": [
       "<matplotlib.axes._subplots.AxesSubplot at 0x1175e57f0>"
      ]
     },
     "execution_count": 26,
     "metadata": {},
     "output_type": "execute_result"
    },
    {
     "data": {
      "image/png": "[encoded data removed]",
      "text/plain": [
       "<Figure size 864x864 with 1 Axes>"
      ]
     },
     "metadata": {},
     "output_type": "display_data"
    }
   ],
   "source": [
    "world.boxplot(column=\"family\")"
   ]
  },
  {
   "cell_type": "code",
   "execution_count": 29,
   "metadata": {},
   "outputs": [
    {
     "data": {
      "text/plain": [
       "<matplotlib.axes._subplots.AxesSubplot at 0x1a19547d30>"
      ]
     },
     "execution_count": 29,
     "metadata": {},
     "output_type": "execute_result"
    },
    {
     "data": {
      "image/png": "[encoded data removed]",
      "text/plain": [
       "<Figure size 864x864 with 1 Axes>"
      ]
     },
     "metadata": {},
     "output_type": "display_data"
    }
   ],
   "source": [
    "world.boxplot(column=\"gov_trust\")"
   ]
  },
  {
   "cell_type": "markdown",
   "metadata": {},
   "source": [
    "The number of outliers is very low."
   ]
  },
  {
   "cell_type": "markdown",
   "metadata": {},
   "source": [
    "Conclusion\n",
    "\n",
    "    There are no duplicate rows or missing values.\n",
    "    The variables standard_error, family, gove_trust, and generosity barely have outliers, while the rest do not.\n",
    "    A histogram of happiness scores shows that it is skewed to the left to lower scores.\n"
   ]
  },
  {
   "cell_type": "code",
   "execution_count": 30,
   "metadata": {},
   "outputs": [],
   "source": [
    "world.to_csv(\"data/world.2.clean.csv\", index=False)"
   ]
  }
 ],
 "metadata": {
  "kernelspec": {
   "display_name": "Python 3",
   "language": "python",
   "name": "python3"
  },
  "language_info": {
   "codemirror_mode": {
    "name": "ipython",
    "version": 3
   },
   "file_extension": ".py",
   "mimetype": "text/x-python",
   "name": "python",
   "nbconvert_exporter": "python",
   "pygments_lexer": "ipython3",
   "version": "3.6.5"
  }
 },
 "nbformat": 4,
 "nbformat_minor": 2
}
