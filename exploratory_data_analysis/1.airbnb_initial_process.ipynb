{
 "cells": [
  {
   "cell_type": "code",
   "execution_count": 12,
   "metadata": {},
   "outputs": [],
   "source": [
    "import pandas as pd"
   ]
  },
  {
   "cell_type": "code",
   "execution_count": 13,
   "metadata": {},
   "outputs": [],
   "source": [
    "%matplotlib inline\n",
    "\n",
    "import matplotlib as mpl\n",
    "mpl.rcParams[\"figure.figsize\"] = (12,12)"
   ]
  },
  {
   "cell_type": "markdown",
   "metadata": {},
   "source": [
    "Data Loading"
   ]
  },
  {
   "cell_type": "code",
   "execution_count": 14,
   "metadata": {},
   "outputs": [],
   "source": [
    "airbnb = pd.read_csv(\"data/airbnb.csv\")"
   ]
  },
  {
   "cell_type": "code",
   "execution_count": 15,
   "metadata": {},
   "outputs": [
    {
     "data": {
      "text/plain": [
       "(13232, 9)"
      ]
     },
     "execution_count": 15,
     "metadata": {},
     "output_type": "execute_result"
    }
   ],
   "source": [
    "airbnb.shape"
   ]
  },
  {
   "cell_type": "code",
   "execution_count": 16,
   "metadata": {},
   "outputs": [
    {
     "data": {
      "text/html": [
       "<div>\n",
       "<style scoped>\n",
       "    .dataframe tbody tr th:only-of-type {\n",
       "        vertical-align: middle;\n",
       "    }\n",
       "\n",
       "    .dataframe tbody tr th {\n",
       "        vertical-align: top;\n",
       "    }\n",
       "\n",
       "    .dataframe thead th {\n",
       "        text-align: right;\n",
       "    }\n",
       "</style>\n",
       "<table border=\"1\" class=\"dataframe\">\n",
       "  <thead>\n",
       "    <tr style=\"text-align: right;\">\n",
       "      <th></th>\n",
       "      <th>room_id</th>\n",
       "      <th>host_id</th>\n",
       "      <th>room_type</th>\n",
       "      <th>neighborhood</th>\n",
       "      <th>reviews</th>\n",
       "      <th>overall_satisfaction</th>\n",
       "      <th>accommodates</th>\n",
       "      <th>bedrooms</th>\n",
       "      <th>price</th>\n",
       "    </tr>\n",
       "  </thead>\n",
       "  <tbody>\n",
       "    <tr>\n",
       "      <th>0</th>\n",
       "      <td>6499</td>\n",
       "      <td>14455</td>\n",
       "      <td>Entire home/apt</td>\n",
       "      <td>Belém</td>\n",
       "      <td>8</td>\n",
       "      <td>5.0</td>\n",
       "      <td>2</td>\n",
       "      <td>1.0</td>\n",
       "      <td>57.0</td>\n",
       "    </tr>\n",
       "    <tr>\n",
       "      <th>1</th>\n",
       "      <td>17031</td>\n",
       "      <td>66015</td>\n",
       "      <td>Entire home/apt</td>\n",
       "      <td>Alvalade</td>\n",
       "      <td>0</td>\n",
       "      <td>0.0</td>\n",
       "      <td>2</td>\n",
       "      <td>1.0</td>\n",
       "      <td>46.0</td>\n",
       "    </tr>\n",
       "    <tr>\n",
       "      <th>2</th>\n",
       "      <td>25659</td>\n",
       "      <td>107347</td>\n",
       "      <td>Entire home/apt</td>\n",
       "      <td>Santa Maria Maior</td>\n",
       "      <td>63</td>\n",
       "      <td>5.0</td>\n",
       "      <td>3</td>\n",
       "      <td>1.0</td>\n",
       "      <td>69.0</td>\n",
       "    </tr>\n",
       "    <tr>\n",
       "      <th>3</th>\n",
       "      <td>29248</td>\n",
       "      <td>125768</td>\n",
       "      <td>Entire home/apt</td>\n",
       "      <td>Santa Maria Maior</td>\n",
       "      <td>225</td>\n",
       "      <td>4.5</td>\n",
       "      <td>4</td>\n",
       "      <td>1.0</td>\n",
       "      <td>58.0</td>\n",
       "    </tr>\n",
       "    <tr>\n",
       "      <th>4</th>\n",
       "      <td>29396</td>\n",
       "      <td>126415</td>\n",
       "      <td>Entire home/apt</td>\n",
       "      <td>Santa Maria Maior</td>\n",
       "      <td>132</td>\n",
       "      <td>5.0</td>\n",
       "      <td>4</td>\n",
       "      <td>1.0</td>\n",
       "      <td>67.0</td>\n",
       "    </tr>\n",
       "  </tbody>\n",
       "</table>\n",
       "</div>"
      ],
      "text/plain": [
       "   room_id  host_id        room_type       neighborhood  reviews  \\\n",
       "0     6499    14455  Entire home/apt              Belém        8   \n",
       "1    17031    66015  Entire home/apt           Alvalade        0   \n",
       "2    25659   107347  Entire home/apt  Santa Maria Maior       63   \n",
       "3    29248   125768  Entire home/apt  Santa Maria Maior      225   \n",
       "4    29396   126415  Entire home/apt  Santa Maria Maior      132   \n",
       "\n",
       "   overall_satisfaction  accommodates  bedrooms  price  \n",
       "0                   5.0             2       1.0   57.0  \n",
       "1                   0.0             2       1.0   46.0  \n",
       "2                   5.0             3       1.0   69.0  \n",
       "3                   4.5             4       1.0   58.0  \n",
       "4                   5.0             4       1.0   67.0  "
      ]
     },
     "execution_count": 16,
     "metadata": {},
     "output_type": "execute_result"
    }
   ],
   "source": [
    "airbnb.head()"
   ]
  },
  {
   "cell_type": "code",
   "execution_count": 17,
   "metadata": {},
   "outputs": [],
   "source": [
    "airbnb = airbnb.drop(columns=[\"reviews\"])"
   ]
  },
  {
   "cell_type": "code",
   "execution_count": 18,
   "metadata": {},
   "outputs": [
    {
     "data": {
      "text/plain": [
       "room_id                   int64\n",
       "host_id                   int64\n",
       "room_type                object\n",
       "neighborhood             object\n",
       "overall_satisfaction    float64\n",
       "accommodates              int64\n",
       "bedrooms                float64\n",
       "price                   float64\n",
       "dtype: object"
      ]
     },
     "execution_count": 18,
     "metadata": {},
     "output_type": "execute_result"
    }
   ],
   "source": [
    "airbnb.dtypes"
   ]
  },
  {
   "cell_type": "markdown",
   "metadata": {},
   "source": [
    "Data Dictionary\n",
    "\n",
    "-room_id (float).\n",
    "-host_id (int). \n",
    "-room_type (categorical). \n",
    "-neighborhood (categorical). Section of Lisbon\n",
    "-reviews (int). Number of reviews\n",
    "-overall_satisfaction(float). Satisfaction rating out of 5\n",
    "-accommodates (int). Number of people that can stay in room\n",
    "-bedrooms (float). \n",
    "-price (float)."
   ]
  },
  {
   "cell_type": "code",
   "execution_count": 19,
   "metadata": {},
   "outputs": [],
   "source": [
    "airbnb.to_csv(\"data/airbnb.1.initial_process.csv\", index=False)"
   ]
  }
 ],
 "metadata": {
  "kernelspec": {
   "display_name": "Python 3",
   "language": "python",
   "name": "python3"
  },
  "language_info": {
   "codemirror_mode": {
    "name": "ipython",
    "version": 3
   },
   "file_extension": ".py",
   "mimetype": "text/x-python",
   "name": "python",
   "nbconvert_exporter": "python",
   "pygments_lexer": "ipython3",
   "version": "3.6.5"
  }
 },
 "nbformat": 4,
 "nbformat_minor": 2
}
